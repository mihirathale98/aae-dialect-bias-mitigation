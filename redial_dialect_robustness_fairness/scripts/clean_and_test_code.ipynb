{
 "cells": [
  {
   "cell_type": "markdown",
   "metadata": {},
   "source": [
    "# sanitize"
   ]
  },
  {
   "cell_type": "code",
   "execution_count": 1,
   "metadata": {},
   "outputs": [
    {
     "name": "stderr",
     "output_type": "stream",
     "text": [
      "/opt/anaconda3/envs/jem/lib/python3.12/site-packages/tqdm/auto.py:21: TqdmWarning: IProgress not found. Please update jupyter and ipywidgets. See https://ipywidgets.readthedocs.io/en/stable/user_install.html\n",
      "  from .autonotebook import tqdm as notebook_tqdm\n"
     ]
    }
   ],
   "source": [
    "from evalplus.data import write_jsonl\n",
    "import json\n",
    "import os\n",
    "mbpp_plus_task_ids = json.load(open('../data/redial/redial_gold/mbpp_plus_task_ids.json', 'r'))\n"
   ]
  },
  {
   "cell_type": "code",
   "execution_count": null,
   "metadata": {},
   "outputs": [],
   "source": [
    "def add_dummy_task_ids(eval_path,\n",
    "                       mbpp_plus_task_ids):\n",
    "    with open(eval_path, 'r') as f:\n",
    "        to_eval = [json.loads(l) for l in f]\n",
    "    to_eval_task_ids = set([problem['task_id'] for problem in to_eval])\n",
    "    for task_id in mbpp_plus_task_ids:\n",
    "        if task_id not in to_eval_task_ids:\n",
    "            to_eval.append({'task_id':task_id, 'solution':''})\n",
    "\n",
    "    # write back to the file\n",
    "    write_jsonl(eval_path, to_eval)\n",
    "\n",
    "\n",
    "def list_files(directory):\n",
    "    res = []\n",
    "    for root, dirs, files in os.walk(directory):\n",
    "        for file in files:\n",
    "            res.append(os.path.join(root, file))\n",
    "    \n",
    "    return res\n",
    "\n",
    "def sanitize_files(alg_dir,\n",
    "                   mbpp_plus_task_ids):\n",
    "\n",
    "    # iterate and list all files in this directory or its subdirectories\n",
    "    all_files = list_files(alg_dir)\n",
    "    for file_path in all_files:\n",
    "        if 'jsonl' not in file_path:\n",
    "            continue\n",
    "        # Check if the file ends with '_new.jsonl'\n",
    "        if os.path.isfile(file_path) and 'to_eval' in file_path and 'sanitized' not in file_path:\n",
    "            if file_path.replace('.jsonl', '-sanitized.jsonl') in all_files:\n",
    "                continue\n",
    "            # phi output unparsed format is weird so skip it\n",
    "            if 'phi' in file_path and 'unparsed' in file_path:\n",
    "                continue\n",
    "            # Execute the command\n",
    "            if 'mbpp' in file_path:\n",
    "                # read jsonl\n",
    "                with open(file_path, 'r') as f:\n",
    "                    if len([json.loads(l) for l in f]) != 150:\n",
    "                        continue\n",
    "            else:\n",
    "                with open(file_path, 'r') as f:\n",
    "                    if len([json.loads(l) for l in f]) != 164:\n",
    "                        continue\n",
    "            \n",
    "            # continue if the sanitized file already exists\n",
    "            if os.path.exists(file_path.replace('.jsonl', '-sanitized.jsonl')):\n",
    "                continue\n",
    "            os.system(f'evalplus.sanitize --samples \"{file_path}\"')\n",
    "            if 'mbpp' in file_path:\n",
    "                add_dummy_task_ids(file_path.replace('.jsonl', '-sanitized.jsonl'), mbpp_plus_task_ids)    "
   ]
  },
  {
   "cell_type": "markdown",
   "metadata": {},
   "source": [
    "# test"
   ]
  },
  {
   "cell_type": "code",
   "execution_count": null,
   "metadata": {},
   "outputs": [],
   "source": [
    "import subprocess\n",
    "import concurrent.futures\n",
    "\n",
    "def run_subprocess(file_path):\n",
    "    # try:\n",
    "        # if os.path.isfile(file) and '-sanitized' in file:\n",
    "    if 'humaneval' in file_path:\n",
    "        data_name = 'humaneval'\n",
    "    else:\n",
    "        data_name = 'mbpp'\n",
    "    # get the parent directory of the file\n",
    "    parent_dir_path = os.path.dirname(file_path)\n",
    "    # get the filename\n",
    "    file = os.path.basename(file_path)\n",
    "    print(parent_dir_path, file, data_name)\n",
    "    result = subprocess.run(\n",
    "        ['docker', 'run', '-v', f'{parent_dir_path}:/app', 'ganler/evalplus:v0.2.1', '--dataset', data_name, '--samples', file],\n",
    "        capture_output=True,\n",
    "        text=True\n",
    "    )\n",
    "    # Print the captured output\n",
    "    print(result.stdout)\n",
    "    if result.stderr:\n",
    "        print(result.stderr)\n",
    "\n",
    "\n",
    "def test_code(alg_dir,\n",
    "              max_workers=10):\n",
    "    all_files = list_files(alg_dir)\n",
    "    with concurrent.futures.ThreadPoolExecutor(max_workers=max_workers) as executor:\n",
    "        futures = []\n",
    "        for file_path in all_files:\n",
    "            if 'jsonl' not in file_path:\n",
    "                continue\n",
    "            if '-sanitized' in file_path and 'eval_results' not in file_path and file_path.replace('-sanitized.jsonl', '-sanitized_eval_results.json') not in all_files:\n",
    "                future = executor.submit(run_subprocess, file_path)\n",
    "                futures.append(future)\n",
    "                # Wait for the subprocess to complete before clearing the Docker cache\n",
    "                future.add_done_callback(lambda fut: executor.submit(subprocess.run, ['docker', 'system', 'prune', '-f'], capture_output=True, text=True))\n",
    "        for future in concurrent.futures.as_completed(futures):\n",
    "            future.result()  # To raise any exceptions that occurred"
   ]
  },
  {
   "cell_type": "markdown",
   "metadata": {},
   "source": [
    "# sanitize and test"
   ]
  },
  {
   "cell_type": "code",
   "execution_count": null,
   "metadata": {},
   "outputs": [],
   "source": [
    "def sanitize_and_test(alg_dir, mbpp_plus_task_ids=mbpp_plus_task_ids, max_workers=10):\n",
    "    sanitize_files(alg_dir, mbpp_plus_task_ids)\n",
    "    test_code(alg_dir, max_workers=max_workers)"
   ]
  },
  {
   "cell_type": "markdown",
   "metadata": {},
   "source": [
    "put your evaluation directory here e.g. \"../outputs/algorithm\", your data folder should contain .jsonl files for evaluation"
   ]
  },
  {
   "cell_type": "code",
   "execution_count": null,
   "metadata": {},
   "outputs": [],
   "source": [
    "sanitize_and_test('eval_dir')"
   ]
  },
  {
   "cell_type": "code",
   "execution_count": null,
   "metadata": {},
   "outputs": [],
   "source": []
  }
 ],
 "metadata": {
  "kernelspec": {
   "display_name": "Python 3",
   "language": "python",
   "name": "python3"
  },
  "language_info": {
   "codemirror_mode": {
    "name": "ipython",
    "version": 3
   },
   "file_extension": ".py",
   "mimetype": "text/x-python",
   "name": "python",
   "nbconvert_exporter": "python",
   "pygments_lexer": "ipython3",
   "version": "3.12.3"
  }
 },
 "nbformat": 4,
 "nbformat_minor": 2
}
